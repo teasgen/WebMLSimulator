{
 "cells": [
  {
   "cell_type": "code",
   "execution_count": 9,
   "metadata": {},
   "outputs": [
    {
     "name": "stderr",
     "output_type": "stream",
     "text": [
      "Downloading...\n",
      "From: https://drive.google.com/uc?id=1Q84Ah2PvEuIHJfidHIeo3Dbir6IQPhmC\n",
      "To: /Users/teasgen/workspace/diploma/q_ans_cat.csv\n",
      "100%|██████████| 30.0k/30.0k [00:00<00:00, 490kB/s]\n"
     ]
    }
   ],
   "source": [
    "import gdown\n",
    "\n",
    "tasks_db_filename = gdown.download(\"https://drive.google.com/file/d/1Q84Ah2PvEuIHJfidHIeo3Dbir6IQPhmC/view?usp=sharing\", fuzzy=True)"
   ]
  },
  {
   "cell_type": "code",
   "execution_count": 14,
   "metadata": {},
   "outputs": [
    {
     "data": {
      "text/html": [
       "<div>\n",
       "<style scoped>\n",
       "    .dataframe tbody tr th:only-of-type {\n",
       "        vertical-align: middle;\n",
       "    }\n",
       "\n",
       "    .dataframe tbody tr th {\n",
       "        vertical-align: top;\n",
       "    }\n",
       "\n",
       "    .dataframe thead th {\n",
       "        text-align: right;\n",
       "    }\n",
       "</style>\n",
       "<table border=\"1\" class=\"dataframe\">\n",
       "  <thead>\n",
       "    <tr style=\"text-align: right;\">\n",
       "      <th></th>\n",
       "      <th>category</th>\n",
       "      <th>question</th>\n",
       "      <th>answer</th>\n",
       "    </tr>\n",
       "  </thead>\n",
       "  <tbody>\n",
       "    <tr>\n",
       "      <th>0</th>\n",
       "      <td>Основы машинного обучения</td>\n",
       "      <td>What is the trade-off between bias and variance?</td>\n",
       "      <td>NaN</td>\n",
       "    </tr>\n",
       "    <tr>\n",
       "      <th>1</th>\n",
       "      <td>Основы машинного обучения</td>\n",
       "      <td>Can you explain the differences between superv...</td>\n",
       "      <td>In supervised learning, we train a model to le...</td>\n",
       "    </tr>\n",
       "    <tr>\n",
       "      <th>2</th>\n",
       "      <td>Предобработка данных</td>\n",
       "      <td>What is data normalization and why do we need it?</td>\n",
       "      <td>Data normalization is very important preproces...</td>\n",
       "    </tr>\n",
       "    <tr>\n",
       "      <th>3</th>\n",
       "      <td>Предобработка данных</td>\n",
       "      <td>What is data augmentation? Can you give some e...</td>\n",
       "      <td>Data augmentation is a technique for synthesiz...</td>\n",
       "    </tr>\n",
       "    <tr>\n",
       "      <th>4</th>\n",
       "      <td>Предобработка данных</td>\n",
       "      <td>Why removing highly correlated features are co...</td>\n",
       "      <td>When two features are highly correlated, they ...</td>\n",
       "    </tr>\n",
       "  </tbody>\n",
       "</table>\n",
       "</div>"
      ],
      "text/plain": [
       "                    category  \\\n",
       "0  Основы машинного обучения   \n",
       "1  Основы машинного обучения   \n",
       "2       Предобработка данных   \n",
       "3       Предобработка данных   \n",
       "4       Предобработка данных   \n",
       "\n",
       "                                            question  \\\n",
       "0   What is the trade-off between bias and variance?   \n",
       "1  Can you explain the differences between superv...   \n",
       "2  What is data normalization and why do we need it?   \n",
       "3  What is data augmentation? Can you give some e...   \n",
       "4  Why removing highly correlated features are co...   \n",
       "\n",
       "                                              answer  \n",
       "0                                                NaN  \n",
       "1  In supervised learning, we train a model to le...  \n",
       "2  Data normalization is very important preproces...  \n",
       "3  Data augmentation is a technique for synthesiz...  \n",
       "4  When two features are highly correlated, they ...  "
      ]
     },
     "execution_count": 14,
     "metadata": {},
     "output_type": "execute_result"
    }
   ],
   "source": [
    "import pandas as pd\n",
    "\n",
    "data = pd.read_csv(tasks_db_filename).drop(columns=[\"Unnamed: 0\"])\n",
    "\n",
    "data.head()"
   ]
  },
  {
   "cell_type": "code",
   "execution_count": null,
   "metadata": {},
   "outputs": [],
   "source": []
  }
 ],
 "metadata": {
  "kernelspec": {
   "display_name": "django_tests",
   "language": "python",
   "name": "python3"
  },
  "language_info": {
   "codemirror_mode": {
    "name": "ipython",
    "version": 3
   },
   "file_extension": ".py",
   "mimetype": "text/x-python",
   "name": "python",
   "nbconvert_exporter": "python",
   "pygments_lexer": "ipython3",
   "version": "3.1.0"
  }
 },
 "nbformat": 4,
 "nbformat_minor": 2
}
